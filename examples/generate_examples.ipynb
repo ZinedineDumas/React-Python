{
 "cells": [
  {
   "cell_type": "code",
   "execution_count": 1,
   "id": "1685fa2f",
   "metadata": {},
   "outputs": [],
   "source": [
    "from langchain.chains.react.prompt import EXAMPLES\n",
    "from langchain.llms.openai import OpenAI\n",
    "from langchain.example_generator import generate_example, generate_example_from_dynamic_prompt"
   ]
  },
  {
   "cell_type": "code",
   "execution_count": 3,
   "id": "334ef4f7",
   "metadata": {},
   "outputs": [
    {
     "data": {
      "text/plain": [
       "'Question: What is the elevation range for the area that the eastern sector of the\\nColorado orogeny extends into?\\nThought 1: I need to search Colorado orogeny, find the area that the eastern sector\\nof the Colorado orogeny extends into, then find the elevation range of the\\narea.\\nAction 1: Search[Colorado orogeny]\\nObservation 1: The Colorado orogeny was an episode of mountain building (an orogeny) in\\nColorado and surrounding areas.\\nThought 2: It does not mention the eastern sector. So I need to look up eastern\\nsector.\\nAction 2: Lookup[eastern sector]\\nObservation 2: (Result 1 / 1) The eastern sector extends into the High Plains and is called\\nthe Central Plains orogeny.\\nThought 3: The eastern sector of Colorado orogeny extends into the High Plains. So I\\nneed to search High Plains and find its elevation range.\\nAction 3: Search[High Plains]\\nObservation 3: High Plains refers to one of two distinct land regions\\nThought 4: I need to instead search High Plains (United States).\\nAction 4: Search[High Plains (United States)]\\nObservation 4: The High Plains are a subregion of the Great Plains. From east to west, the\\nHigh Plains rise in elevation from around 1,800 to 7,000 ft (550 to 2,130\\nm).[3]\\nThought 5: High Plains rise in elevation from around 1,800 to 7,000 ft, so the answer\\nis 1,800 to 7,000 ft.\\nAction 5: Finish[1,800 to 7,000 ft]'"
      ]
     },
     "execution_count": 3,
     "metadata": {},
     "output_type": "execute_result"
    }
   ],
   "source": [
    "# print initial example for visibility\n",
    "EXAMPLES[0]"
   ]
  },
  {
   "cell_type": "code",
   "execution_count": 6,
   "id": "a7bd36bc",
   "metadata": {},
   "outputs": [],
   "source": [
    "new_example = generate_example(EXAMPLES, OpenAI())"
   ]
  },
  {
   "cell_type": "code",
   "execution_count": 7,
   "id": "e1efb008",
   "metadata": {},
   "outputs": [
    {
     "data": {
      "text/plain": [
       "['',\n",
       " '',\n",
       " 'Question: Is the Mount Everest taller than the Mount Kilimanjaro?',\n",
       " '',\n",
       " 'Thought 1: I need to search Mount Everest and Mount Kilimanjaro, find their',\n",
       " 'heights, then compare them.',\n",
       " '',\n",
       " 'Action 1: Search[Mount Everest]',\n",
       " '',\n",
       " \"Observation 1: Mount Everest, at 8,848 metres (29,029 ft), is the world's highest mountain\",\n",
       " 'and a particularly popular goal for mountaineers.',\n",
       " '',\n",
       " 'Thought 2: Mount Everest is 8,848 metres tall. I need to search Mount Kilimanjaro',\n",
       " 'next.',\n",
       " '',\n",
       " 'Action 2: Search[Mount Kilimanjaro]',\n",
       " '',\n",
       " 'Observation 2: Mount Kilimanjaro, with its three volcanic cones, Kibo, Mawenzi, and',\n",
       " 'Shira, is a freestanding mountain in Tanzania. It is the highest mountain in',\n",
       " 'Africa, and rises approximately 4,900 metres (16,100 ft) from its base to 5,895',\n",
       " 'metres (19,341 ft) above sea level.',\n",
       " '',\n",
       " 'Thought 3: Mount Kilimanjaro is 5,895 metres tall. 8,848 metres (Mount Everest) >',\n",
       " '5,895 metres (Mount Kil']"
      ]
     },
     "execution_count": 7,
     "metadata": {},
     "output_type": "execute_result"
    }
   ],
   "source": [
    "new_example.split('\\n')"
   ]
  },
  {
   "cell_type": "code",
   "execution_count": null,
   "id": "d8843d7b",
   "metadata": {},
   "outputs": [],
   "source": []
  }
 ],
 "metadata": {
  "kernelspec": {
   "display_name": "Python 3 (ipykernel)",
   "language": "python",
   "name": "python3"
  },
  "language_info": {
   "codemirror_mode": {
    "name": "ipython",
    "version": 3
   },
   "file_extension": ".py",
   "mimetype": "text/x-python",
   "name": "python",
   "nbconvert_exporter": "python",
   "pygments_lexer": "ipython3",
   "version": "3.10.4"
  }
 },
 "nbformat": 4,
 "nbformat_minor": 5
}
